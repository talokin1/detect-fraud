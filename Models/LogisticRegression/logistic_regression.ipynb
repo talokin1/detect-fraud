{
 "cells": [
  {
   "cell_type": "code",
   "execution_count": null,
   "metadata": {},
   "outputs": [],
   "source": [
    "import pandas as pd\n",
    "from sklearn.linear_model import LogisticRegression\n",
    "from sklearn.model_selection import train_test_split\n",
    "from sklearn.metrics import classification_report, confusion_matrix"
   ]
  },
  {
   "cell_type": "code",
   "execution_count": 31,
   "metadata": {},
   "outputs": [],
   "source": [
    "data = pd.read_csv(r'..\\data\\train_cleaned.csv', encoding = 'latin1', low_memory=False)"
   ]
  },
  {
   "cell_type": "code",
   "execution_count": 4,
   "metadata": {},
   "outputs": [
    {
     "name": "stdout",
     "output_type": "stream",
     "text": [
      "<class 'pandas.core.frame.DataFrame'>\n",
      "RangeIndex: 864734 entries, 0 to 864733\n",
      "Data columns (total 21 columns):\n",
      " #   Column                   Non-Null Count   Dtype  \n",
      "---  ------                   --------------   -----  \n",
      " 0   transaction_type         864734 non-null  float64\n",
      " 1   merchant_customer_id     864734 non-null  float64\n",
      " 2   merchant_customer_email  864734 non-null  float64\n",
      " 3   merchant_country         864734 non-null  float64\n",
      " 4   ip_address               864734 non-null  float64\n",
      " 5   merchant_shop_name       864734 non-null  float64\n",
      " 6   ip_country               864734 non-null  float64\n",
      " 7   user_agent               864734 non-null  float64\n",
      " 8   card_id                  864734 non-null  float64\n",
      " 9   bank                     864734 non-null  float64\n",
      " 10  cardbrand                864734 non-null  float64\n",
      " 11  cardcountry              864734 non-null  float64\n",
      " 12  cardtype                 864734 non-null  float64\n",
      " 13  bin                      864734 non-null  float64\n",
      " 14  is_fraud                 864734 non-null  int64  \n",
      " 15  is_subscription          864734 non-null  int64  \n",
      " 16  amount_scaled            864734 non-null  float64\n",
      " 17  is_secured               864734 non-null  int64  \n",
      " 18  card_exp_relative        864734 non-null  float64\n",
      " 19  month_at                 864734 non-null  int64  \n",
      " 20  week_day_at              864734 non-null  int64  \n",
      "dtypes: float64(16), int64(5)\n",
      "memory usage: 138.5 MB\n"
     ]
    }
   ],
   "source": [
    "data.info()"
   ]
  },
  {
   "cell_type": "code",
   "execution_count": 32,
   "metadata": {},
   "outputs": [],
   "source": [
    "features = data.drop('is_fraud', axis=1)\n",
    "target = data['is_fraud']\n",
    "\n",
    "features_train, features_test, target_train, target_test = train_test_split(features, target, test_size=0.2, \n",
    "                                                                            random_state=42)"
   ]
  },
  {
   "cell_type": "code",
   "execution_count": 38,
   "metadata": {},
   "outputs": [],
   "source": [
    "logm = LogisticRegression(C = 0.01, solver = 'saga', max_iter = 500, tol = 0.001, class_weight = 'balanced')"
   ]
  },
  {
   "cell_type": "code",
   "execution_count": null,
   "metadata": {},
   "outputs": [],
   "source": [
    "logm.fit(features_train, target_train)"
   ]
  },
  {
   "cell_type": "code",
   "execution_count": 35,
   "metadata": {},
   "outputs": [],
   "source": [
    "result = logm.predict(features_test)"
   ]
  },
  {
   "cell_type": "code",
   "execution_count": 36,
   "metadata": {},
   "outputs": [
    {
     "name": "stdout",
     "output_type": "stream",
     "text": [
      "              precision    recall  f1-score   support\n",
      "\n",
      "           0       0.98      0.22      0.36    165985\n",
      "           1       0.05      0.88      0.09      6962\n",
      "\n",
      "    accuracy                           0.25    172947\n",
      "   macro avg       0.51      0.55      0.22    172947\n",
      "weighted avg       0.94      0.25      0.35    172947\n",
      "\n"
     ]
    }
   ],
   "source": [
    "print(classification_report(target_test, result))"
   ]
  },
  {
   "cell_type": "code",
   "execution_count": 9,
   "metadata": {},
   "outputs": [
    {
     "name": "stdout",
     "output_type": "stream",
     "text": [
      "[[114471  51514]\n",
      " [  4334   2628]]\n"
     ]
    }
   ],
   "source": [
    "print(confusion_matrix(target_test, result))"
   ]
  }
 ],
 "metadata": {
  "kernelspec": {
   "display_name": "Python 3",
   "language": "python",
   "name": "python3"
  },
  "language_info": {
   "codemirror_mode": {
    "name": "ipython",
    "version": 3
   },
   "file_extension": ".py",
   "mimetype": "text/x-python",
   "name": "python",
   "nbconvert_exporter": "python",
   "pygments_lexer": "ipython3",
   "version": "3.11.5"
  }
 },
 "nbformat": 4,
 "nbformat_minor": 2
}
