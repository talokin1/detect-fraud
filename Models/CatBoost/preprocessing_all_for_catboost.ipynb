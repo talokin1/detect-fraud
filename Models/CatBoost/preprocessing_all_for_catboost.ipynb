{
 "cells": [
  {
   "cell_type": "code",
   "execution_count": 97,
   "metadata": {},
   "outputs": [],
   "source": [
    "import pandas as pd\n",
    "import numpy as np\n",
    "from sklearn.preprocessing import LabelEncoder, MinMaxScaler\n",
    "import re"
   ]
  },
  {
   "cell_type": "code",
   "execution_count": 98,
   "metadata": {},
   "outputs": [],
   "source": [
    "df_train = pd.read_csv(r'..\\..\\data\\general_datasets\\train.csv', encoding = 'latin1', low_memory = False, nrows = 500000)"
   ]
  },
  {
   "cell_type": "code",
   "execution_count": 99,
   "metadata": {},
   "outputs": [],
   "source": [
    "df_test = pd.read_csv(r'..\\..\\data\\general_datasets\\test.csv', encoding = 'latin1', low_memory = False, nrows = 10000)"
   ]
  },
  {
   "cell_type": "code",
   "execution_count": 100,
   "metadata": {},
   "outputs": [],
   "source": [
    "df = pd.concat([df_train, df_test], axis = 0, ignore_index = True)"
   ]
  },
  {
   "cell_type": "code",
   "execution_count": 101,
   "metadata": {},
   "outputs": [
    {
     "name": "stdout",
     "output_type": "stream",
     "text": [
      "<class 'pandas.core.frame.DataFrame'>\n",
      "RangeIndex: 510000 entries, 0 to 509999\n",
      "Data columns (total 43 columns):\n",
      " #   Column                        Non-Null Count   Dtype  \n",
      "---  ------                        --------------   -----  \n",
      " 0   transaction_id                510000 non-null  uint64 \n",
      " 1   is_fraud                      500000 non-null  float64\n",
      " 2   created_at                    510000 non-null  object \n",
      " 3   is_subscription               510000 non-null  bool   \n",
      " 4   transaction_type              510000 non-null  object \n",
      " 5   currency_amount               510000 non-null  float64\n",
      " 6   currency_id                   510000 non-null  int64  \n",
      " 7   amount_scaled                 510000 non-null  int64  \n",
      " 8   merchant_customer_id          438631 non-null  object \n",
      " 9   merchant_customer_email       510000 non-null  object \n",
      " 10  merchant_customer_phone       15434 non-null   object \n",
      " 11  merchant_customer_first_name  72951 non-null   object \n",
      " 12  merchant_customer_last_name   52367 non-null   object \n",
      " 13  merchant_country              510000 non-null  object \n",
      " 14  merchant_city                 15232 non-null   object \n",
      " 15  merchant_language             403779 non-null  object \n",
      " 16  ip_address                    510000 non-null  object \n",
      " 17  platform                      510000 non-null  object \n",
      " 18  merchant_id                   510000 non-null  uint64 \n",
      " 19  merchant_shop_id              510000 non-null  int64  \n",
      " 20  merchant_shop_name            510000 non-null  object \n",
      " 21  is_secured                    510000 non-null  bool   \n",
      " 22  order_number                  20939 non-null   float64\n",
      " 23  ip_country                    501236 non-null  object \n",
      " 24  is_verified                   1406 non-null    object \n",
      " 25  payment_type                  286547 non-null  object \n",
      " 26  traffic_source                110827 non-null  object \n",
      " 27  transaction_source            16602 non-null   object \n",
      " 28  user_agent                    177234 non-null  object \n",
      " 29  browser                       0 non-null       float64\n",
      " 30  browser_version               0 non-null       float64\n",
      " 31  operating_system              0 non-null       float64\n",
      " 32  operating_system_version      0 non-null       float64\n",
      " 33  device                        7390 non-null    object \n",
      " 34  card_id                       509978 non-null  object \n",
      " 35  bank                          496889 non-null  object \n",
      " 36  cardbrand                     509866 non-null  object \n",
      " 37  cardcountry                   508007 non-null  object \n",
      " 38  cardtype                      500697 non-null  object \n",
      " 39  bin                           509982 non-null  object \n",
      " 40  card_exp_relative             509982 non-null  float64\n",
      " 41  card_holder_first_name        147271 non-null  object \n",
      " 42  card_holder_last_name         144393 non-null  object \n",
      "dtypes: bool(2), float64(8), int64(3), object(28), uint64(2)\n",
      "memory usage: 160.5+ MB\n"
     ]
    }
   ],
   "source": [
    "df.info()"
   ]
  },
  {
   "cell_type": "code",
   "execution_count": 102,
   "metadata": {},
   "outputs": [],
   "source": [
    "df.drop(columns = ['merchant_customer_phone', 'merchant_customer_first_name', 'transaction_source', 'traffic_source',\n",
    "                   'merchant_customer_last_name', 'merchant_city', 'order_number', 'is_verified', 'browser',\n",
    "                   'browser_version', 'operating_system', 'operating_system_version', 'device',\n",
    "                   'card_holder_first_name', 'card_holder_last_name'], inplace = True)"
   ]
  },
  {
   "cell_type": "code",
   "execution_count": 103,
   "metadata": {},
   "outputs": [],
   "source": [
    "df['created_at'] = pd.to_datetime(df['created_at'])\n",
    "df['month'] = df['created_at'].dt.month\n",
    "df['week_day'] = df['created_at'].dt.dayofweek\n",
    "df.drop('created_at', axis=1, inplace=True)"
   ]
  },
  {
   "cell_type": "code",
   "execution_count": 104,
   "metadata": {},
   "outputs": [],
   "source": [
    "df['card_exp_relative'] = df['card_exp_relative'].fillna(df['card_exp_relative'].median())"
   ]
  },
  {
   "cell_type": "code",
   "execution_count": 105,
   "metadata": {},
   "outputs": [
    {
     "name": "stdout",
     "output_type": "stream",
     "text": [
      "<class 'pandas.core.frame.DataFrame'>\n",
      "RangeIndex: 510000 entries, 0 to 509999\n",
      "Data columns (total 29 columns):\n",
      " #   Column                   Non-Null Count   Dtype  \n",
      "---  ------                   --------------   -----  \n",
      " 0   transaction_id           510000 non-null  uint64 \n",
      " 1   is_fraud                 500000 non-null  float64\n",
      " 2   is_subscription          510000 non-null  bool   \n",
      " 3   transaction_type         510000 non-null  object \n",
      " 4   currency_amount          510000 non-null  float64\n",
      " 5   currency_id              510000 non-null  int64  \n",
      " 6   amount_scaled            510000 non-null  int64  \n",
      " 7   merchant_customer_id     438631 non-null  object \n",
      " 8   merchant_customer_email  510000 non-null  object \n",
      " 9   merchant_country         510000 non-null  object \n",
      " 10  merchant_language        403779 non-null  object \n",
      " 11  ip_address               510000 non-null  object \n",
      " 12  platform                 510000 non-null  object \n",
      " 13  merchant_id              510000 non-null  uint64 \n",
      " 14  merchant_shop_id         510000 non-null  int64  \n",
      " 15  merchant_shop_name       510000 non-null  object \n",
      " 16  is_secured               510000 non-null  bool   \n",
      " 17  ip_country               501236 non-null  object \n",
      " 18  payment_type             286547 non-null  object \n",
      " 19  user_agent               177234 non-null  object \n",
      " 20  card_id                  509978 non-null  object \n",
      " 21  bank                     496889 non-null  object \n",
      " 22  cardbrand                509866 non-null  object \n",
      " 23  cardcountry              508007 non-null  object \n",
      " 24  cardtype                 500697 non-null  object \n",
      " 25  bin                      509982 non-null  object \n",
      " 26  card_exp_relative        510000 non-null  float64\n",
      " 27  month                    510000 non-null  int32  \n",
      " 28  week_day                 510000 non-null  int32  \n",
      "dtypes: bool(2), float64(3), int32(2), int64(3), object(17), uint64(2)\n",
      "memory usage: 102.1+ MB\n"
     ]
    }
   ],
   "source": [
    "df.info()"
   ]
  },
  {
   "cell_type": "code",
   "execution_count": 106,
   "metadata": {},
   "outputs": [
    {
     "name": "stdout",
     "output_type": "stream",
     "text": [
      "<class 'pandas.core.frame.DataFrame'>\n",
      "RangeIndex: 510000 entries, 0 to 509999\n",
      "Data columns (total 29 columns):\n",
      " #   Column                   Non-Null Count   Dtype  \n",
      "---  ------                   --------------   -----  \n",
      " 0   transaction_id           510000 non-null  uint64 \n",
      " 1   is_fraud                 500000 non-null  float64\n",
      " 2   is_subscription          510000 non-null  bool   \n",
      " 3   transaction_type         510000 non-null  object \n",
      " 4   currency_amount          510000 non-null  float64\n",
      " 5   currency_id              510000 non-null  int64  \n",
      " 6   amount_scaled            510000 non-null  int64  \n",
      " 7   merchant_customer_id     438631 non-null  object \n",
      " 8   merchant_customer_email  510000 non-null  object \n",
      " 9   merchant_country         510000 non-null  object \n",
      " 10  merchant_language        403779 non-null  object \n",
      " 11  ip_address               510000 non-null  object \n",
      " 12  platform                 510000 non-null  object \n",
      " 13  merchant_id              510000 non-null  uint64 \n",
      " 14  merchant_shop_id         510000 non-null  int64  \n",
      " 15  merchant_shop_name       510000 non-null  object \n",
      " 16  is_secured               510000 non-null  bool   \n",
      " 17  ip_country               501236 non-null  object \n",
      " 18  payment_type             286547 non-null  object \n",
      " 19  user_agent               177234 non-null  object \n",
      " 20  card_id                  509978 non-null  object \n",
      " 21  bank                     496889 non-null  object \n",
      " 22  cardbrand                509866 non-null  object \n",
      " 23  cardcountry              508007 non-null  object \n",
      " 24  cardtype                 500697 non-null  object \n",
      " 25  bin                      509982 non-null  object \n",
      " 26  card_exp_relative        510000 non-null  float64\n",
      " 27  month                    510000 non-null  int32  \n",
      " 28  week_day                 510000 non-null  int32  \n",
      "dtypes: bool(2), float64(3), int32(2), int64(3), object(17), uint64(2)\n",
      "memory usage: 102.1+ MB\n"
     ]
    }
   ],
   "source": [
    "df.info()"
   ]
  },
  {
   "cell_type": "code",
   "execution_count": 107,
   "metadata": {},
   "outputs": [
    {
     "name": "stdout",
     "output_type": "stream",
     "text": [
      "<class 'pandas.core.frame.DataFrame'>\n",
      "RangeIndex: 510000 entries, 0 to 509999\n",
      "Data columns (total 29 columns):\n",
      " #   Column                   Non-Null Count   Dtype  \n",
      "---  ------                   --------------   -----  \n",
      " 0   transaction_id           510000 non-null  uint64 \n",
      " 1   is_fraud                 500000 non-null  float64\n",
      " 2   is_subscription          510000 non-null  bool   \n",
      " 3   transaction_type         510000 non-null  object \n",
      " 4   currency_amount          510000 non-null  float64\n",
      " 5   currency_id              510000 non-null  int64  \n",
      " 6   amount_scaled            510000 non-null  int64  \n",
      " 7   merchant_customer_id     438631 non-null  object \n",
      " 8   merchant_customer_email  510000 non-null  object \n",
      " 9   merchant_country         510000 non-null  object \n",
      " 10  merchant_language        403779 non-null  object \n",
      " 11  ip_address               510000 non-null  object \n",
      " 12  platform                 510000 non-null  object \n",
      " 13  merchant_id              510000 non-null  uint64 \n",
      " 14  merchant_shop_id         510000 non-null  int64  \n",
      " 15  merchant_shop_name       510000 non-null  object \n",
      " 16  is_secured               510000 non-null  bool   \n",
      " 17  ip_country               501236 non-null  object \n",
      " 18  payment_type             286547 non-null  object \n",
      " 19  user_agent               177234 non-null  object \n",
      " 20  card_id                  509978 non-null  object \n",
      " 21  bank                     496889 non-null  object \n",
      " 22  cardbrand                509866 non-null  object \n",
      " 23  cardcountry              508007 non-null  object \n",
      " 24  cardtype                 500697 non-null  object \n",
      " 25  bin                      509982 non-null  object \n",
      " 26  card_exp_relative        510000 non-null  float64\n",
      " 27  month                    510000 non-null  int32  \n",
      " 28  week_day                 510000 non-null  int32  \n",
      "dtypes: bool(2), float64(3), int32(2), int64(3), object(17), uint64(2)\n",
      "memory usage: 102.1+ MB\n"
     ]
    }
   ],
   "source": [
    "df.info()"
   ]
  },
  {
   "cell_type": "code",
   "execution_count": 108,
   "metadata": {},
   "outputs": [],
   "source": [
    "num_cols = df.drop(['is_fraud', 'currency_id', 'merchant_shop_id'], axis=1).select_dtypes(include=[\"number\"]).columns\n",
    "\n",
    "for col in num_cols:\n",
    "    Q1 = df[col].quantile(0.25)\n",
    "    Q3 = df[col].quantile(0.75)\n",
    "    IQR = Q3 - Q1\n",
    "    lower_bound = Q1 - 1.5 * IQR\n",
    "    upper_bound = Q3 + 1.5 * IQR\n",
    "    df[col] = np.clip(df[col], lower_bound, upper_bound)"
   ]
  },
  {
   "cell_type": "code",
   "execution_count": 109,
   "metadata": {},
   "outputs": [],
   "source": [
    "def parse_user_agent(user_agent):\n",
    "    \n",
    "    legacy_token = user_agent.split(\" \")[0] if user_agent else None\n",
    "    user_agent = user_agent.replace(legacy_token, '')\n",
    "    os_match = re.search(r'\\(([^;]+; [^\\)]+)\\)', user_agent)\n",
    "    os_info = os_match.group(1) if os_match else None\n",
    "    \n",
    "    browser_match = re.search(r'(Mozilla|Chrome|Firefox|Edge|Opera)/([\\d\\.]+)', user_agent)\n",
    "    actual_browser = browser_match.group(1) + '/' + browser_match.group(2) if browser_match else None\n",
    "    \n",
    "    engine_match = re.search(r'(AppleWebKit|Gecko|Trident)/([\\d\\.]+)', user_agent)\n",
    "    rendering_engine = engine_match.group(1) + '/' + engine_match.group(2) if engine_match else None\n",
    "    \n",
    "    compatible_engine_match = re.search(r'(KHTML|Presto|Blink)', user_agent)\n",
    "    compatible_engine = '(' + compatible_engine_match.group(1) + ', LIKE GECKO)' if compatible_engine_match else None\n",
    "    \n",
    "    compatible_browser_match = re.search(r'(Safari)/([\\d\\.]+)', user_agent)\n",
    "    compatible_browser = compatible_browser_match.group(1) + '/' + compatible_browser_match.group(2) if compatible_browser_match else None\n",
    "    \n",
    "    return {\n",
    "        \"legacy_token\": legacy_token,\n",
    "        \"operating_system\": os_info,\n",
    "        \"browser_rendering_engine\": rendering_engine,\n",
    "        \"compatible_rendering_engine\": compatible_engine,\n",
    "        \"actual_browser\": actual_browser,\n",
    "        \"compatible_browser\": compatible_browser\n",
    "    }"
   ]
  },
  {
   "cell_type": "code",
   "execution_count": 110,
   "metadata": {},
   "outputs": [],
   "source": [
    "df['user_agent'] = df['user_agent'].fillna('#')\n",
    "df_parsed = df[df['user_agent'] != '#']['user_agent'].apply(parse_user_agent).apply(pd.Series)\n",
    "df = df.join(df_parsed)"
   ]
  },
  {
   "cell_type": "code",
   "execution_count": 111,
   "metadata": {},
   "outputs": [],
   "source": [
    "df.drop('user_agent', axis = 1, inplace = True)"
   ]
  },
  {
   "cell_type": "code",
   "execution_count": 112,
   "metadata": {},
   "outputs": [],
   "source": [
    "object_columns = df[0:1].select_dtypes(include = ['object']).columns.to_list()\n",
    "for column in object_columns:\n",
    "    df[column] = df[column].fillna('#')"
   ]
  },
  {
   "cell_type": "code",
   "execution_count": 113,
   "metadata": {},
   "outputs": [],
   "source": [
    "df['merchant_language'] = df['merchant_language'].apply(lambda lang: lang.split('_')[0])"
   ]
  },
  {
   "cell_type": "code",
   "execution_count": 114,
   "metadata": {},
   "outputs": [],
   "source": [
    "unbalanced_categories = ['merchant_country', 'merchant_language', 'ip_country', 'platform', 'cardbrand', 'cardcountry']\n",
    "length = len(df)\n",
    "for categ in unbalanced_categories:\n",
    "    category_counts = df[categ].value_counts()\n",
    "    df[categ] = df[categ].apply(lambda value: value if category_counts[value] > 0.001 * length else 'other')"
   ]
  },
  {
   "cell_type": "code",
   "execution_count": 115,
   "metadata": {},
   "outputs": [],
   "source": [
    "for column in object_columns:\n",
    "    encoder = LabelEncoder()\n",
    "    df[column] = encoder.fit_transform(df[column])"
   ]
  },
  {
   "cell_type": "code",
   "execution_count": 116,
   "metadata": {},
   "outputs": [],
   "source": [
    "bool_decoder = {False: 0, True: 1}\n",
    "bool_columns = df[0:1].select_dtypes(include = ['bool']).columns.to_list()\n",
    "for column in bool_columns:\n",
    "    df[column] = df[column].map(bool_decoder)"
   ]
  },
  {
   "cell_type": "code",
   "execution_count": 117,
   "metadata": {},
   "outputs": [
    {
     "name": "stdout",
     "output_type": "stream",
     "text": [
      "<class 'pandas.core.frame.DataFrame'>\n",
      "RangeIndex: 510000 entries, 0 to 509999\n",
      "Data columns (total 34 columns):\n",
      " #   Column                       Non-Null Count   Dtype  \n",
      "---  ------                       --------------   -----  \n",
      " 0   transaction_id               510000 non-null  uint64 \n",
      " 1   is_fraud                     500000 non-null  float64\n",
      " 2   is_subscription              510000 non-null  int64  \n",
      " 3   transaction_type             510000 non-null  int32  \n",
      " 4   currency_amount              510000 non-null  float64\n",
      " 5   currency_id                  510000 non-null  int64  \n",
      " 6   amount_scaled                510000 non-null  float64\n",
      " 7   merchant_customer_id         510000 non-null  int32  \n",
      " 8   merchant_customer_email      510000 non-null  int32  \n",
      " 9   merchant_country             510000 non-null  int32  \n",
      " 10  merchant_language            510000 non-null  int32  \n",
      " 11  ip_address                   510000 non-null  int32  \n",
      " 12  platform                     510000 non-null  int32  \n",
      " 13  merchant_id                  510000 non-null  uint64 \n",
      " 14  merchant_shop_id             510000 non-null  int64  \n",
      " 15  merchant_shop_name           510000 non-null  int32  \n",
      " 16  is_secured                   510000 non-null  int64  \n",
      " 17  ip_country                   510000 non-null  int32  \n",
      " 18  payment_type                 510000 non-null  int32  \n",
      " 19  card_id                      510000 non-null  int32  \n",
      " 20  bank                         510000 non-null  int32  \n",
      " 21  cardbrand                    510000 non-null  int32  \n",
      " 22  cardcountry                  510000 non-null  int32  \n",
      " 23  cardtype                     510000 non-null  int32  \n",
      " 24  bin                          510000 non-null  int32  \n",
      " 25  card_exp_relative            510000 non-null  float64\n",
      " 26  month                        510000 non-null  int32  \n",
      " 27  week_day                     510000 non-null  int32  \n",
      " 28  legacy_token                 510000 non-null  int32  \n",
      " 29  operating_system             510000 non-null  int32  \n",
      " 30  browser_rendering_engine     510000 non-null  int32  \n",
      " 31  compatible_rendering_engine  510000 non-null  int32  \n",
      " 32  actual_browser               510000 non-null  int32  \n",
      " 33  compatible_browser           510000 non-null  int32  \n",
      "dtypes: float64(4), int32(24), int64(4), uint64(2)\n",
      "memory usage: 85.6 MB\n"
     ]
    }
   ],
   "source": [
    "df.info()"
   ]
  },
  {
   "cell_type": "code",
   "execution_count": 118,
   "metadata": {},
   "outputs": [],
   "source": [
    "length_train = len(df_train)\n",
    "df.iloc[0: length_train, 1:].to_csv(r'preprocessed_train_data.csv', index = False)"
   ]
  },
  {
   "cell_type": "code",
   "execution_count": 119,
   "metadata": {},
   "outputs": [],
   "source": [
    "df.iloc[length_train: ].to_csv(r'preprocessed_test_data.csv', index = False)"
   ]
  }
 ],
 "metadata": {
  "kernelspec": {
   "display_name": "Python 3",
   "language": "python",
   "name": "python3"
  },
  "language_info": {
   "codemirror_mode": {
    "name": "ipython",
    "version": 3
   },
   "file_extension": ".py",
   "mimetype": "text/x-python",
   "name": "python",
   "nbconvert_exporter": "python",
   "pygments_lexer": "ipython3",
   "version": "3.11.5"
  }
 },
 "nbformat": 4,
 "nbformat_minor": 2
}
