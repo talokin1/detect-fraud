{
 "cells": [
  {
   "cell_type": "code",
   "execution_count": 22,
   "metadata": {},
   "outputs": [],
   "source": [
    "import pandas as pd\n",
    "import numpy as np\n",
    "from sklearn.preprocessing import LabelEncoder"
   ]
  },
  {
   "cell_type": "code",
   "execution_count": 23,
   "metadata": {},
   "outputs": [],
   "source": [
    "df = pd.read_csv(r'..\\..\\data\\general_datasets\\train.csv', encoding = 'latin1', low_memory = False, nrows = 100000)"
   ]
  },
  {
   "cell_type": "code",
   "execution_count": 24,
   "metadata": {},
   "outputs": [
    {
     "name": "stdout",
     "output_type": "stream",
     "text": [
      "<class 'pandas.core.frame.DataFrame'>\n",
      "RangeIndex: 100000 entries, 0 to 99999\n",
      "Data columns (total 43 columns):\n",
      " #   Column                        Non-Null Count   Dtype  \n",
      "---  ------                        --------------   -----  \n",
      " 0   transaction_id                100000 non-null  uint64 \n",
      " 1   is_fraud                      100000 non-null  int64  \n",
      " 2   created_at                    100000 non-null  object \n",
      " 3   is_subscription               100000 non-null  bool   \n",
      " 4   transaction_type              100000 non-null  object \n",
      " 5   currency_amount               100000 non-null  float64\n",
      " 6   currency_id                   100000 non-null  int64  \n",
      " 7   amount_scaled                 100000 non-null  int64  \n",
      " 8   merchant_customer_id          77253 non-null   object \n",
      " 9   merchant_customer_email       100000 non-null  object \n",
      " 10  merchant_customer_phone       6615 non-null    object \n",
      " 11  merchant_customer_first_name  16406 non-null   object \n",
      " 12  merchant_customer_last_name   11744 non-null   object \n",
      " 13  merchant_country              100000 non-null  object \n",
      " 14  merchant_city                 5946 non-null    object \n",
      " 15  merchant_language             74695 non-null   object \n",
      " 16  ip_address                    100000 non-null  object \n",
      " 17  platform                      100000 non-null  object \n",
      " 18  merchant_id                   100000 non-null  uint64 \n",
      " 19  merchant_shop_id              100000 non-null  int64  \n",
      " 20  merchant_shop_name            100000 non-null  object \n",
      " 21  is_secured                    100000 non-null  bool   \n",
      " 22  order_number                  2391 non-null    float64\n",
      " 23  ip_country                    95258 non-null   object \n",
      " 24  is_verified                   524 non-null     object \n",
      " 25  payment_type                  16623 non-null   object \n",
      " 26  traffic_source                28771 non-null   object \n",
      " 27  transaction_source            2650 non-null    object \n",
      " 28  user_agent                    62999 non-null   object \n",
      " 29  browser                       0 non-null       float64\n",
      " 30  browser_version               0 non-null       float64\n",
      " 31  operating_system              0 non-null       float64\n",
      " 32  operating_system_version      0 non-null       float64\n",
      " 33  device                        3477 non-null    object \n",
      " 34  card_id                       99984 non-null   object \n",
      " 35  bank                          98698 non-null   object \n",
      " 36  cardbrand                     99959 non-null   object \n",
      " 37  cardcountry                   99797 non-null   object \n",
      " 38  cardtype                      99315 non-null   object \n",
      " 39  bin                           99987 non-null   object \n",
      " 40  card_exp_relative             99987 non-null   float64\n",
      " 41  card_holder_first_name        27081 non-null   object \n",
      " 42  card_holder_last_name         25817 non-null   object \n",
      "dtypes: bool(2), float64(7), int64(4), object(28), uint64(2)\n",
      "memory usage: 31.5+ MB\n"
     ]
    }
   ],
   "source": [
    "df.info()"
   ]
  },
  {
   "cell_type": "code",
   "execution_count": 25,
   "metadata": {},
   "outputs": [
    {
     "data": {
      "text/plain": [
       "card_exp_relative\n",
       "62.0     7729\n",
       "71.0     3759\n",
       "34.0     2808\n",
       "36.0     2585\n",
       "35.0     2563\n",
       "         ... \n",
       "463.0       1\n",
       "110.0       1\n",
       "113.0       1\n",
       "401.0       1\n",
       "111.0       1\n",
       "Name: count, Length: 135, dtype: int64"
      ]
     },
     "execution_count": 25,
     "metadata": {},
     "output_type": "execute_result"
    }
   ],
   "source": [
    "df['card_exp_relative'].value_counts()"
   ]
  },
  {
   "cell_type": "code",
   "execution_count": 26,
   "metadata": {},
   "outputs": [
    {
     "name": "stderr",
     "output_type": "stream",
     "text": [
      "C:\\Users\\Lenovo\\AppData\\Local\\Temp\\ipykernel_9672\\4067608440.py:9: FutureWarning: A value is trying to be set on a copy of a DataFrame or Series through chained assignment using an inplace method.\n",
      "The behavior will change in pandas 3.0. This inplace method will never work because the intermediate object on which we are setting values always behaves as a copy.\n",
      "\n",
      "For example, when doing 'df[col].method(value, inplace=True)', try using 'df.method({col: value}, inplace=True)' or df[col] = df[col].method(value) instead, to perform the operation inplace on the original object.\n",
      "\n",
      "\n",
      "  df['card_exp_relative'] = df['card_exp_relative'].fillna(value = df['card_exp_relative'].median(), inplace = True)\n"
     ]
    }
   ],
   "source": [
    "df.drop(columns = ['transaction_id', 'merchant_customer_phone', 'merchant_customer_first_name',\n",
    "                   'merchant_customer_last_name', 'merchant_city', 'order_number', 'is_verified', 'browser',\n",
    "                   'browser_version', 'operating_system', 'operating_system_version', 'device',\n",
    "                   'card_holder_first_name', 'card_holder_last_name'], inplace = True)\n",
    "df['created_at'] = pd.to_datetime(df['created_at'])\n",
    "df['month'] = df['created_at'].dt.month\n",
    "df['week_day'] = df['created_at'].dt.dayofweek\n",
    "df.drop('created_at', axis=1, inplace=True)\n",
    "df['card_exp_relative'] = df['card_exp_relative'].fillna(value = df['card_exp_relative'].median(), inplace = True)\n",
    "df.fillna('#', inplace = True)\n",
    "df['merchant_language'] = df['merchant_language'].apply(lambda lang: lang.split('_')[0])\n",
    "unbalanced_categories = ['merchant_country', 'merchant_language', 'ip_country', 'platform', 'cardbrand', 'cardcountry']\n",
    "length = len(df)\n",
    "for categ in unbalanced_categories:\n",
    "    category_counts = df[categ].value_counts()\n",
    "    df[categ] = df[categ].apply(lambda value: value if category_counts[value] > 0.001*length else 'other')\n",
    "    \n",
    "num_cols = df.drop(['is_fraud', 'currency_id', 'merchant_shop_id'], axis=1).select_dtypes(include=[\"number\"]).columns\n",
    "\n",
    "for col in num_cols:\n",
    "    Q1 = df[col].quantile(0.25)\n",
    "    Q3 = df[col].quantile(0.75)\n",
    "    IQR = Q3 - Q1\n",
    "    lower_bound = Q1 - 1.5 * IQR\n",
    "    upper_bound = Q3 + 1.5 * IQR\n",
    "    df[col] = np.clip(df[col], lower_bound, upper_bound)"
   ]
  },
  {
   "cell_type": "code",
   "execution_count": 27,
   "metadata": {},
   "outputs": [],
   "source": [
    "import re\n",
    "\n",
    "def parse_user_agent(user_agent: str):\n",
    "    # Шаблоны для извлечения информации\n",
    "    legacy_token = user_agent.split(\" \")[0] if user_agent else None\n",
    "    user_agent = user_agent.replace(legacy_token, '')\n",
    "    os_match = re.search(r'\\(([^;]+; [^\\)]+)\\)', user_agent)\n",
    "    os_info = os_match.group(1) if os_match else None\n",
    "    \n",
    "    browser_match = re.search(r'(Mozilla|Chrome|Firefox|Edge|Opera)/([\\d\\.]+)', user_agent)\n",
    "    actual_browser = browser_match.group(1) + '/' + browser_match.group(2) if browser_match else None\n",
    "    \n",
    "    engine_match = re.search(r'(AppleWebKit|Gecko|Trident)/([\\d\\.]+)', user_agent)\n",
    "    rendering_engine = engine_match.group(1) + '/' + engine_match.group(2) if engine_match else None\n",
    "    \n",
    "    compatible_engine_match = re.search(r'(KHTML|Presto|Blink)', user_agent)\n",
    "    compatible_engine = '(' + compatible_engine_match.group(1) + ', LIKE GECKO)' if compatible_engine_match else None\n",
    "    \n",
    "    compatible_browser_match = re.search(r'(Safari)/([\\d\\.]+)', user_agent)\n",
    "    compatible_browser = compatible_browser_match.group(1) + '/' + compatible_browser_match.group(2) if compatible_browser_match else None\n",
    "    \n",
    "    return {\n",
    "        \"legacy token\": legacy_token,\n",
    "        \"operating system\": os_info,\n",
    "        \"browser rendering engine\": rendering_engine,\n",
    "        \"compatible rendering engine\": compatible_engine,\n",
    "        \"actual browser\": actual_browser,\n",
    "        \"compatible browser\": compatible_browser\n",
    "    }\n"
   ]
  },
  {
   "cell_type": "code",
   "execution_count": 28,
   "metadata": {},
   "outputs": [],
   "source": [
    "df_parsed = df[df['user_agent'] != '#']['user_agent'].apply(parse_user_agent).apply(pd.Series)\n",
    "df = df.join(df_parsed)"
   ]
  },
  {
   "cell_type": "code",
   "execution_count": 29,
   "metadata": {},
   "outputs": [],
   "source": [
    "df.fillna('#', inplace = True)"
   ]
  },
  {
   "cell_type": "code",
   "execution_count": 30,
   "metadata": {},
   "outputs": [],
   "source": [
    "df.drop('user_agent', axis = 1, inplace = True)"
   ]
  },
  {
   "cell_type": "code",
   "execution_count": 31,
   "metadata": {},
   "outputs": [],
   "source": [
    "categ_features = df.select_dtypes(include = ['object']).columns.to_list()\n",
    "for feat in categ_features:\n",
    "    encoder = LabelEncoder()\n",
    "    df[feat] = encoder.fit_transform(df[feat])"
   ]
  },
  {
   "cell_type": "code",
   "execution_count": 32,
   "metadata": {},
   "outputs": [],
   "source": [
    "df.to_csv('preprocessed_data_mini_test.csv', index = False)"
   ]
  },
  {
   "cell_type": "code",
   "execution_count": 33,
   "metadata": {},
   "outputs": [
    {
     "name": "stdout",
     "output_type": "stream",
     "text": [
      "<class 'pandas.core.frame.DataFrame'>\n",
      "RangeIndex: 100000 entries, 0 to 99999\n",
      "Data columns (total 35 columns):\n",
      " #   Column                       Non-Null Count   Dtype  \n",
      "---  ------                       --------------   -----  \n",
      " 0   is_fraud                     100000 non-null  int64  \n",
      " 1   is_subscription              100000 non-null  bool   \n",
      " 2   transaction_type             100000 non-null  int32  \n",
      " 3   currency_amount              100000 non-null  float64\n",
      " 4   currency_id                  100000 non-null  int64  \n",
      " 5   amount_scaled                100000 non-null  float64\n",
      " 6   merchant_customer_id         100000 non-null  int32  \n",
      " 7   merchant_customer_email      100000 non-null  int32  \n",
      " 8   merchant_country             100000 non-null  int32  \n",
      " 9   merchant_language            100000 non-null  int32  \n",
      " 10  ip_address                   100000 non-null  int32  \n",
      " 11  platform                     100000 non-null  int32  \n",
      " 12  merchant_id                  100000 non-null  uint64 \n",
      " 13  merchant_shop_id             100000 non-null  int64  \n",
      " 14  merchant_shop_name           100000 non-null  int32  \n",
      " 15  is_secured                   100000 non-null  bool   \n",
      " 16  ip_country                   100000 non-null  int32  \n",
      " 17  payment_type                 100000 non-null  int32  \n",
      " 18  traffic_source               100000 non-null  int32  \n",
      " 19  transaction_source           100000 non-null  int32  \n",
      " 20  card_id                      100000 non-null  int32  \n",
      " 21  bank                         100000 non-null  int32  \n",
      " 22  cardbrand                    100000 non-null  int32  \n",
      " 23  cardcountry                  100000 non-null  int32  \n",
      " 24  cardtype                     100000 non-null  int32  \n",
      " 25  bin                          100000 non-null  int32  \n",
      " 26  card_exp_relative            100000 non-null  int32  \n",
      " 27  month                        100000 non-null  int32  \n",
      " 28  week_day                     100000 non-null  int32  \n",
      " 29  legacy token                 100000 non-null  int32  \n",
      " 30  operating system             100000 non-null  int32  \n",
      " 31  browser rendering engine     100000 non-null  int32  \n",
      " 32  compatible rendering engine  100000 non-null  int32  \n",
      " 33  actual browser               100000 non-null  int32  \n",
      " 34  compatible browser           100000 non-null  int32  \n",
      "dtypes: bool(2), float64(2), int32(27), int64(3), uint64(1)\n",
      "memory usage: 15.1 MB\n"
     ]
    }
   ],
   "source": [
    "df.info()"
   ]
  }
 ],
 "metadata": {
  "kernelspec": {
   "display_name": "Python 3",
   "language": "python",
   "name": "python3"
  },
  "language_info": {
   "codemirror_mode": {
    "name": "ipython",
    "version": 3
   },
   "file_extension": ".py",
   "mimetype": "text/x-python",
   "name": "python",
   "nbconvert_exporter": "python",
   "pygments_lexer": "ipython3",
   "version": "3.11.5"
  }
 },
 "nbformat": 4,
 "nbformat_minor": 2
}
